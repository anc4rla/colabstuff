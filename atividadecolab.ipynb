{
  "nbformat": 4,
  "nbformat_minor": 0,
  "metadata": {
    "colab": {
      "provenance": [],
      "authorship_tag": "ABX9TyP7dBFvQg3Ij93HZ7SnbO64",
      "include_colab_link": true
    },
    "kernelspec": {
      "name": "python3",
      "display_name": "Python 3"
    },
    "language_info": {
      "name": "python"
    }
  },
  "cells": [
    {
      "cell_type": "markdown",
      "metadata": {
        "id": "view-in-github",
        "colab_type": "text"
      },
      "source": [
        "<a href=\"https://colab.research.google.com/github/anc4rla/colabstuff/blob/main/atividadecolab.ipynb\" target=\"_parent\"><img src=\"https://colab.research.google.com/assets/colab-badge.svg\" alt=\"Open In Colab\"/></a>"
      ]
    },
    {
      "cell_type": "code",
      "execution_count": null,
      "metadata": {
        "colab": {
          "base_uri": "https://localhost:8080/"
        },
        "id": "vliWmnef_mWI",
        "outputId": "d285dd23-0dda-4054-fee2-8ad152872856"
      },
      "outputs": [
        {
          "output_type": "stream",
          "name": "stdout",
          "text": [
            "Digite um inteiro 5\n",
            "Digite outro inteiro2\n",
            "25\n"
          ]
        }
      ],
      "source": [
        "var1 = int(input(\"Digite um inteiro \"))\n",
        "var2 = int(input(\"Digite outro inteiro\"))\n",
        "\n",
        "exp = var1 ** var2\n",
        "print(exp)"
      ]
    },
    {
      "cell_type": "code",
      "source": [
        "var1 = int(input(\"Digite um inteiro \"))\n",
        "var2 = int(input(\"Digite outro inteiro\"))\n",
        "\n",
        "resto = var1 % var2\n",
        "print(resto)"
      ],
      "metadata": {
        "colab": {
          "base_uri": "https://localhost:8080/"
        },
        "id": "xZ5dU67T_2eQ",
        "outputId": "06b3c3d3-ecea-4697-b11f-a208d22277bd"
      },
      "execution_count": null,
      "outputs": [
        {
          "output_type": "stream",
          "name": "stdout",
          "text": [
            "Digite um inteiro 52\n",
            "Digite outro inteiro2\n",
            "0\n"
          ]
        }
      ]
    },
    {
      "cell_type": "code",
      "source": [
        "a = 3\n",
        "b = 4\n",
        "c = a < b\n",
        "d = a > b\n",
        "e = a == b\n",
        "\n",
        "print(c)\n",
        "print(d)\n",
        "print(e)"
      ],
      "metadata": {
        "colab": {
          "base_uri": "https://localhost:8080/"
        },
        "id": "Z-1uKcMOABhd",
        "outputId": "d92eaf8e-956b-4651-c82b-0dbe95382f86"
      },
      "execution_count": null,
      "outputs": [
        {
          "output_type": "stream",
          "name": "stdout",
          "text": [
            "True\n",
            "False\n",
            "False\n"
          ]
        }
      ]
    },
    {
      "cell_type": "code",
      "source": [
        "idade = int(input(\"qual sua idade? \"))\n",
        "permissao = input(\"S/N: \")\n",
        "\n",
        "if idade >= 18 and permissao == \"5\":\n",
        "  print(True)\n",
        "else:\n",
        "  print(False)"
      ],
      "metadata": {
        "colab": {
          "base_uri": "https://localhost:8080/"
        },
        "id": "d2SO1DY0BtPj",
        "outputId": "997f210d-6b36-4d37-a74a-138e47ce90d6"
      },
      "execution_count": null,
      "outputs": [
        {
          "output_type": "stream",
          "name": "stdout",
          "text": [
            "qual sua idade? 12\n",
            "S/N: 8\n",
            "False\n"
          ]
        }
      ]
    },
    {
      "cell_type": "code",
      "source": [
        "a = 5\n",
        "b = 6\n",
        "if a == 5 or b == 6:\n",
        "  print(True)\n",
        "else:\n",
        "  print(False)"
      ],
      "metadata": {
        "colab": {
          "base_uri": "https://localhost:8080/"
        },
        "id": "G31MYZYLELn9",
        "outputId": "00f40342-dead-4fc9-f93a-c47c8781163f"
      },
      "execution_count": null,
      "outputs": [
        {
          "output_type": "stream",
          "name": "stdout",
          "text": [
            "True\n"
          ]
        }
      ]
    },
    {
      "cell_type": "code",
      "source": [
        "a = 6\n",
        "b = 6\n",
        "if a == 5 or b == 6:\n",
        "  print(True)\n",
        "else:\n",
        "  print(False)"
      ],
      "metadata": {
        "colab": {
          "base_uri": "https://localhost:8080/"
        },
        "id": "RIY8jeGLEWAz",
        "outputId": "a3074e53-f6a0-48be-874c-b3992db60ccf"
      },
      "execution_count": null,
      "outputs": [
        {
          "output_type": "stream",
          "name": "stdout",
          "text": [
            "True\n"
          ]
        }
      ]
    },
    {
      "cell_type": "code",
      "source": [
        "condicao = True\n",
        "if not condicao:\n",
        "  print(\"a condição é falsa.\")\n",
        "else:\n",
        "  print(\"a condição é verdadeira.\")"
      ],
      "metadata": {
        "colab": {
          "base_uri": "https://localhost:8080/"
        },
        "id": "EL_drh9tGHOH",
        "outputId": "a62855ee-9cf8-46aa-85d8-3d542930a2dd"
      },
      "execution_count": null,
      "outputs": [
        {
          "output_type": "stream",
          "name": "stdout",
          "text": [
            "a condição é verdadeira.\n"
          ]
        }
      ]
    },
    {
      "cell_type": "markdown",
      "source": [
        "Atividade aula on-line do dia 21/02"
      ],
      "metadata": {
        "id": "GAfCEnvHu7G8"
      }
    },
    {
      "cell_type": "markdown",
      "source": [
        "Questão 1"
      ],
      "metadata": {
        "id": "g4nM3r8SvBkz"
      }
    },
    {
      "cell_type": "code",
      "source": [
        "x = float(input(\"Digite um número: \"))\n",
        "if x > 10 and x < 20:\n",
        "  print(\"Seu número está entre 10 e 20\")\n",
        "else:\n",
        "  print(\"Seu número não está entre 10 e 20\")"
      ],
      "metadata": {
        "colab": {
          "base_uri": "https://localhost:8080/"
        },
        "id": "gbuc0fKlvCiJ",
        "outputId": "36711ff5-b19b-40d0-e522-2317126e48d4"
      },
      "execution_count": 7,
      "outputs": [
        {
          "output_type": "stream",
          "name": "stdout",
          "text": [
            "Digite um número: 8\n",
            "Seu número não está entre 10 e 20\n"
          ]
        }
      ]
    },
    {
      "cell_type": "markdown",
      "source": [
        "Questão 2"
      ],
      "metadata": {
        "id": "rtpxeF51vwfu"
      }
    },
    {
      "cell_type": "code",
      "source": [
        "y = float(input(\"Digite sua idade: \"))\n",
        "if y >= 18:\n",
        "  print(\"Você pode assistir ao filme\")\n",
        "elif y < 18:\n",
        "  print(\"Você possui a autorização de seus pais para ver o filme?\")\n",
        "  p = str(input(\"Digite apenas sim ou não (iniciando com letra maiúscula): \"))\n",
        "  if p == \"Sim\":\n",
        "    print(\"Apresente a autorização na bilheteria e aproveite o filme!\")\n",
        "  else:\n",
        "    print(\"Você não poderá assistir ao fillme\")\n"
      ],
      "metadata": {
        "colab": {
          "base_uri": "https://localhost:8080/"
        },
        "id": "AOX1QwDOvxa3",
        "outputId": "abd1706f-0f11-42b4-9833-dfcbb49e791d"
      },
      "execution_count": 6,
      "outputs": [
        {
          "output_type": "stream",
          "name": "stdout",
          "text": [
            "Digite sua idade: 43\n",
            "Você pode assistir ao filme\n"
          ]
        }
      ]
    },
    {
      "cell_type": "markdown",
      "source": [
        "Questão 3"
      ],
      "metadata": {
        "id": "SboUUfNaxXOO"
      }
    },
    {
      "cell_type": "code",
      "source": [
        "l = float(input(\"Digite um número: \"))\n",
        "if l > 0 and l % 2 != 0:\n",
        "  print(\"Seu número é positivo e ímpar\")\n",
        "elif l < 0 and l % 2 != 0:\n",
        "  print(\"Seu número é negativo e ímpar\")\n",
        "elif l > 0 and l % 2 == 0:\n",
        "  print(\"Seu número é positivo e par\")\n",
        "elif l < 0 and l % 2 == 0:\n",
        "  print(\"Seu número é negativo e par \")"
      ],
      "metadata": {
        "colab": {
          "base_uri": "https://localhost:8080/"
        },
        "id": "DCd1U5HXxYEz",
        "outputId": "68170b85-d97a-4893-9466-d148ffe758a8"
      },
      "execution_count": 3,
      "outputs": [
        {
          "output_type": "stream",
          "name": "stdout",
          "text": [
            "Digite um número: 5\n",
            "Seu número é positivo e ímpar\n"
          ]
        }
      ]
    },
    {
      "cell_type": "markdown",
      "source": [
        "Questão 4"
      ],
      "metadata": {
        "id": "gFxo1Ip4zHel"
      }
    },
    {
      "cell_type": "code",
      "source": [
        "s = float(input(\"Digite o valor do lado a: \"))\n",
        "d = float(input(\"Digite o valor do lado b: \"))\n",
        "w = float(input(\"Digite o valor do lado c: \"))\n",
        "\n",
        "if s == d == w:\n",
        "  print(\"Seu triângulo é equilatero\")\n",
        "elif s == d != w or s != d == w or s == w != d:\n",
        "  print(\"Seu triângulo é isóceles\")\n",
        "elif s != d != w:\n",
        "  print(\"Seu triângulo é escaleno\")"
      ],
      "metadata": {
        "colab": {
          "base_uri": "https://localhost:8080/"
        },
        "id": "6-2WnbjpzIxV",
        "outputId": "ebfeebe2-9746-4c28-bc8f-860e3cf20d75"
      },
      "execution_count": 2,
      "outputs": [
        {
          "output_type": "stream",
          "name": "stdout",
          "text": [
            "Digite o valor do lado a: 5\n",
            "Digite o valor do lado b: 2\n",
            "Digite o valor do lado c: 9\n",
            "Seu triângulo é escaleno\n"
          ]
        }
      ]
    },
    {
      "cell_type": "markdown",
      "source": [
        "Questão 5"
      ],
      "metadata": {
        "id": "8EJ14h8I396q"
      }
    },
    {
      "cell_type": "code",
      "source": [
        "print(\"1 = Segunda-feira\")\n",
        "print(\"2 = Terça-feira\")\n",
        "print(\"3 = Quarta-feira\")\n",
        "print(\"4 = Quinta-feira\")\n",
        "print(\"5 = Sexta-feira\")\n",
        "print(\"6 = Sábado\")\n",
        "print(\"7 = Domingo\")\n",
        "\n",
        "g = float(input(\"Digite um número de 1 a 7: \"))\n",
        "\n",
        "if g == 1:\n",
        "  print(\"Certo, você escolheu Segunda-feira\")\n",
        "elif g == 2:\n",
        "  print(\"Certo, você escolheu Terça-feira\")\n",
        "elif g == 3:\n",
        "  print(\"Certo, você escolheu Quarta-feira\")\n",
        "elif g == 4:\n",
        "  print(\"Certo, você escolheu Quinta-feira\")\n",
        "elif g == 5:\n",
        "  print(\"Certo, você escolheu Sexta-feira\")\n",
        "elif g == 6:\n",
        "  print(\"Certo, você escolheu Sábado\")\n",
        "elif g == 7:\n",
        "  print(\"Certo, você escolheu Domingo\")\n",
        "\n",
        "else:\n",
        "  print(\"Valor inválido, retorne e tente novamente\")\n",
        "\n",
        "p = float(input(\"Agora, informe o valor total de sua conta: \"))\n",
        "\n",
        "if g == 1 and p > 100:\n",
        "  print(\"O valor final da sua conta será \",p-10/100*p)\n",
        "\n",
        "elif g == 2 and p > 50:\n",
        "  print(\"O valor final da sua compra será \",p-5/100*p)\n",
        "\n",
        "elif g == 3 and p > 200:\n",
        "  print(\"O valor final da sua conta será\",p-15/100*p)\n",
        "\n",
        "elif g == 4 and p > 150:\n",
        "  print(\"O valor final da sua conta será\", p-20/100*p)\n",
        "\n",
        "elif g == 5 and p > 300:\n",
        "  print(\"O valor final da sua conta será\", p-25/100*p)\n",
        "\n",
        "elif g == 6 and p > 100:\n",
        "  print(\"O valor final da sua conta será\", p-10/100*p)\n",
        "\n",
        "elif g == 6 and p < 100:\n",
        "  print(\"O valor final da sua conta será\", p-5/100*p)\n",
        "\n",
        "elif g == 7 and p > 200:\n",
        "  print(\"O valor final da sua conta será\", p-15/100*p)\n",
        "\n",
        "elif g == 7 and p < 200:\n",
        "  print(\"O valor final da sua conta será\", p-10/100*p)\n",
        "\n",
        "else:\n",
        "  print(\"O valor final da sua conta será\", p)"
      ],
      "metadata": {
        "colab": {
          "base_uri": "https://localhost:8080/"
        },
        "id": "i6Cn8Cm63-zO",
        "outputId": "2e08bac1-4f8d-4d0a-ffe9-6436313b6ddf"
      },
      "execution_count": 8,
      "outputs": [
        {
          "output_type": "stream",
          "name": "stdout",
          "text": [
            "1 = Segunda-feira\n",
            "2 = Terça-feira\n",
            "3 = Quarta-feira\n",
            "4 = Quinta-feira\n",
            "5 = Sexta-feira\n",
            "6 = Sábado\n",
            "7 = Domingo\n",
            "Digite um número de 1 a 7: 6\n",
            "Certo, você escolheu Sábado\n",
            "Agora, informe o valor total de sua conta: 127\n",
            "O valor final da sua conta será 114.3\n"
          ]
        }
      ]
    }
  ]
}