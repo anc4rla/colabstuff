{
  "nbformat": 4,
  "nbformat_minor": 0,
  "metadata": {
    "colab": {
      "provenance": [],
      "authorship_tag": "ABX9TyNDZRXty5MLEE/p+eV7JWvD",
      "include_colab_link": true
    },
    "kernelspec": {
      "name": "python3",
      "display_name": "Python 3"
    },
    "language_info": {
      "name": "python"
    }
  },
  "cells": [
    {
      "cell_type": "markdown",
      "metadata": {
        "id": "view-in-github",
        "colab_type": "text"
      },
      "source": [
        "<a href=\"https://colab.research.google.com/github/anc4rla/colabstuff/blob/main/AtividadeCD.ipynb\" target=\"_parent\"><img src=\"https://colab.research.google.com/assets/colab-badge.svg\" alt=\"Open In Colab\"/></a>"
      ]
    },
    {
      "cell_type": "markdown",
      "source": [
        "Questão 1\n",
        "- Variável é um nome que se refere a um valor\n",
        "- Atribuição é um valor que se associa a uma variável"
      ],
      "metadata": {
        "id": "ZtVczqmFmL3h"
      }
    },
    {
      "cell_type": "markdown",
      "source": [
        "Questão 2\n",
        "- **Int:** usada para números inteiros\n",
        "- **Float:** usada para números decimais\n",
        "- **Str:** usada para textos\n",
        "- **Bool:** usada para verdadeiro ou falso"
      ],
      "metadata": {
        "id": "3ge92FrkmmKx"
      }
    },
    {
      "cell_type": "markdown",
      "source": [
        "Questão 3"
      ],
      "metadata": {
        "id": "n00ta2_Vm7pB"
      }
    },
    {
      "cell_type": "code",
      "source": [
        "print(\"Olá, mundo!\")"
      ],
      "metadata": {
        "colab": {
          "base_uri": "https://localhost:8080/"
        },
        "id": "WWxWPbakm87m",
        "outputId": "3bf73066-03b5-4d8a-e8f5-443b04972b22"
      },
      "execution_count": null,
      "outputs": [
        {
          "output_type": "stream",
          "name": "stdout",
          "text": [
            "Olá, mundo!\n"
          ]
        }
      ]
    },
    {
      "cell_type": "markdown",
      "source": [
        "Questão 4\n",
        "- Usando a função input\n",
        "\n",
        "Exemplo:"
      ],
      "metadata": {
        "id": "-W3Nfms3nHZz"
      }
    },
    {
      "cell_type": "code",
      "source": [
        "m = input(\"Informe seu nome: \")"
      ],
      "metadata": {
        "colab": {
          "base_uri": "https://localhost:8080/"
        },
        "id": "P2mb5ZnunPEt",
        "outputId": "e1029fce-14f8-4d8c-e8c2-b87a1b134128"
      },
      "execution_count": null,
      "outputs": [
        {
          "name": "stdout",
          "output_type": "stream",
          "text": [
            "Informe seu nome: ana carla\n"
          ]
        }
      ]
    },
    {
      "cell_type": "markdown",
      "source": [
        "Questão 5"
      ],
      "metadata": {
        "id": "hgeWXjo1nZUh"
      }
    },
    {
      "cell_type": "code",
      "source": [
        "x = float(input(\"digite seu primeiro número: \"))\n",
        "print(\"\\n\")\n",
        "y = float(input(\"digite seu segundo número: \"))\n",
        "print(\"\\n\")\n",
        "print(\"- adição\")\n",
        "print(\"\\n\")\n",
        "print(\"- subtração\")\n",
        "print(\"\\n\")\n",
        "print(\"- divisão\")\n",
        "print(\"\\n\")\n",
        "print(\"- multiplicação\")\n",
        "print(\"\\n\")\n",
        "\n",
        "z = str(input(\"digite a operação desejada: \"))\n",
        "\n",
        "if z == \"adição\":\n",
        "  print(x+y)\n",
        "\n",
        "elif z == \"subtração\":\n",
        "  print(x-y)\n",
        "\n",
        "elif z == \"divisão\":\n",
        " if y != 0:\n",
        "  print(x/y)\n",
        " else:\n",
        "    print(\"erro: divisão por zero\")\n",
        "\n",
        "elif z == \"multiplicação\":\n",
        "  print(x*y)"
      ],
      "metadata": {
        "colab": {
          "base_uri": "https://localhost:8080/"
        },
        "id": "ySg6Es6lnaeF",
        "outputId": "4246a02a-259e-4ae7-e8c6-5f75f82fc0d3"
      },
      "execution_count": 31,
      "outputs": [
        {
          "output_type": "stream",
          "name": "stdout",
          "text": [
            "digite seu primeiro número: 6.28\n",
            "\n",
            "\n",
            "digite seu segundo número: 2\n",
            "\n",
            "\n",
            "- adição\n",
            "\n",
            "\n",
            "- subtração\n",
            "\n",
            "\n",
            "- divisão\n",
            "\n",
            "\n",
            "- multiplicação\n",
            "\n",
            "\n",
            "digite a operação desejada: divisão\n",
            "3.14\n"
          ]
        }
      ]
    },
    {
      "cell_type": "markdown",
      "source": [
        "Questão 6"
      ],
      "metadata": {
        "id": "HADCfd3UlogY"
      }
    },
    {
      "cell_type": "code",
      "source": [
        "x = float(input(\"Digite o último digito da placa de seu carro: \"))\n",
        "\n",
        "if x == 1 or x == 2:\n",
        "  print(\"Circule somente nas segundas-feiras\")\n",
        "\n",
        "elif x == 3 or x == 4:\n",
        "  print(\"Circule somente nas terças-feiras\")\n",
        "\n",
        "elif x == 5 or x == 6:\n",
        "  print(\"Circule somente nas quartas-feiras\")\n",
        "\n",
        "elif x == 7 or x == 8:\n",
        "  print(\"Circule somente nas quintas-feiras\")\n",
        "\n",
        "elif x == 9 or x == 0:\n",
        "  print(\"Circule somente nas sextas-feiras\")\n",
        "\n",
        "else:\n",
        "  print(\"Valor inválido, retorne e tente novamente\")"
      ],
      "metadata": {
        "colab": {
          "base_uri": "https://localhost:8080/"
        },
        "id": "o3t9RI4TndV7",
        "outputId": "0cf57683-4362-495c-a181-fac18a5a2290"
      },
      "execution_count": 4,
      "outputs": [
        {
          "output_type": "stream",
          "name": "stdout",
          "text": [
            "Digite o último digito da placa de seu carro: 9\n",
            "Circule somente nas sextas-feiras\n"
          ]
        }
      ]
    }
  ]
}